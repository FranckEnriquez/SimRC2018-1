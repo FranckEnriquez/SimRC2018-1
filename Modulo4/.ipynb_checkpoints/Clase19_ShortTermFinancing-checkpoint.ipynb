{
 "cells": [
  {
   "cell_type": "markdown",
   "metadata": {},
   "source": [
    "# Ejercicios de programación lineal"
   ]
  },
  {
   "cell_type": "markdown",
   "metadata": {},
   "source": [
    "<img style=\"float: right; margin: 0px 0px 15px 15px;\" src=\"linprog.jpg\" width=\"400px\" height=\"125px\" />\n",
    "\n",
    "Ya hemos visto varias aplicaciones de programación lineal en finanzas:\n",
    "- Conformación de portafolios de bonos.\n",
    "- Problema de cumplimiento de flujo de efectivo.\n",
    "- Detección y optimización de estrategias de arbitraje.\n",
    "\n",
    "Hoy veremos un esquema de financiamiento a corto plazo.\n",
    "\n",
    "**Referencia**\n",
    "- Optimization Methods in Finance; Gerard Cornuejols, Reha Tutuncu; Cambridge University Press, 2006."
   ]
  },
  {
   "cell_type": "markdown",
   "metadata": {},
   "source": [
    "## 1. Financiamiento a corto plazo"
   ]
  },
  {
   "cell_type": "markdown",
   "metadata": {},
   "source": [
    "Las compañías a menudo tienen el problema de financiar compromisos de efectivo en el corto plazo (compra de una máquina, bodega o inventario). La programación lineal puede ayudar en encontrar una combinación óptima de instrumentos financieros para satisfacer dichos compromisos.\n",
    "\n",
    "Para ilustrar, consideremos el siguiente pequeño problema. Tenemos el siguiente compromiso de flujo de efectivo en miles de dolares:\n",
    "\n",
    "| Mes           | Enero         | Febrero       | Marzo         | Abril         | Mayo          | Junio         |\n",
    "| ------------- | ------------- | ------------- | ------------- | ------------- | ------------- | ------------- |\n",
    "| Flujo neto    | -150          | -100          | 200           | -200          | 50            | 300           |\n",
    "\n",
    "Además, tenemos las siguientes fuentes de financiamiento:\n",
    "- una línea de crédito de hasta 100 a una tasa de interés de $1\\%$ mensual;\n",
    "- en cualquiera de los primeros tres meses, se puede emitir una letra de 90 días con un interés total del $2\\%$ por el periodo trimestral;\n",
    "- el exceso de fondos, puede ser invertido a una tasa de interés de $0.3\\%$ mensual."
   ]
  },
  {
   "cell_type": "markdown",
   "metadata": {},
   "source": [
    "### Para resolver...\n",
    "1. Variables de decisión.\n",
    "2. Objetivo.\n",
    "3. Restricciones."
   ]
  },
  {
   "cell_type": "code",
   "execution_count": 4,
   "metadata": {},
   "outputs": [],
   "source": [
    "from scipy.optimize import linprog\n",
    "import numpy as np"
   ]
  },
  {
   "cell_type": "code",
   "execution_count": 5,
   "metadata": {},
   "outputs": [
    {
     "data": {
      "text/plain": [
       "array([ 0.,  0.,  0.,  0.,  0.,  0.,  0.,  0.,  0.,  0.,  0.,  0.,  0., -1.])"
      ]
     },
     "execution_count": 5,
     "metadata": {},
     "output_type": "execute_result"
    }
   ],
   "source": [
    "# Función a minimizar\n",
    "c = np.concatenate((np.zeros(13), np.array([-1])))\n",
    "c"
   ]
  },
  {
   "cell_type": "code",
   "execution_count": 16,
   "metadata": {},
   "outputs": [
    {
     "data": {
      "text/plain": [
       "array([[ 1.   ,  0.   ,  0.   ,  0.   ,  0.   ,  1.   ,  0.   ,  0.   ,\n",
       "        -1.   ,  0.   ,  0.   ,  0.   ,  0.   ,  0.   ],\n",
       "       [-1.01 ,  1.   ,  0.   ,  0.   ,  0.   ,  0.   ,  1.   ,  0.   ,\n",
       "         1.003, -1.   ,  0.   ,  0.   ,  0.   ,  0.   ],\n",
       "       [ 0.   , -1.01 ,  1.   ,  0.   ,  0.   ,  0.   ,  0.   ,  1.   ,\n",
       "         0.   ,  1.003, -1.   ,  0.   ,  0.   ,  0.   ],\n",
       "       [ 0.   ,  0.   , -1.01 ,  1.   ,  0.   , -1.02 ,  0.   ,  0.   ,\n",
       "         0.   ,  0.   ,  1.003, -1.   ,  0.   ,  0.   ],\n",
       "       [ 0.   ,  0.   ,  0.   , -1.01 ,  1.   ,  0.   , -1.02 ,  0.   ,\n",
       "         0.   ,  0.   ,  0.   ,  1.003, -1.   ,  0.   ],\n",
       "       [ 0.   ,  0.   ,  0.   ,  0.   , -1.01 ,  0.   ,  0.   , -1.02 ,\n",
       "         0.   ,  0.   ,  0.   ,  0.   ,  1.003, -1.   ]])"
      ]
     },
     "execution_count": 16,
     "metadata": {},
     "output_type": "execute_result"
    }
   ],
   "source": [
    "Aeq1 = np.array([1, 0, 0, 0, 0, 1, 0, 0, -1, 0, 0, 0, 0, 0])\n",
    "Aeq2 = np.array([-1.01, 1, 0, 0, 0, 0, 1, 0, 1.003, -1, 0, 0, 0, 0])\n",
    "Aeq3 = np.array([0, -1.01, 1, 0, 0, 0, 0, 1, 0, 1.003, -1, 0, 0, 0])\n",
    "Aeq4 = np.array([0, 0, -1.01, 1, 0, -1.02, 0, 0, 0, 0, 1.003, -1, 0, 0])\n",
    "Aeq5 = np.array([0, 0, 0, -1.01, 1, 0, -1.02, 0, 0, 0, 0, 1.003, -1, 0])\n",
    "Aeq6 = np.array([0, 0, 0, 0, -1.01, 0, 0, -1.02, 0, 0, 0, 0, 1.003, -1])\n",
    "Aeq = np.array([Aeq1, Aeq2, Aeq3, Aeq4, Aeq5, Aeq6])\n",
    "Aeq"
   ]
  },
  {
   "cell_type": "code",
   "execution_count": 27,
   "metadata": {},
   "outputs": [],
   "source": [
    "beq = np.array([150, 100, -200, 200, -50, -300])\n",
    "xbound = (0, 100)\n",
    "ybound = (0, None)\n",
    "zbound = (0, None)\n",
    "vbound = (0, None)\n",
    "bound = (xbound, xbound, xbound, xbound, xbound,\n",
    "        ybound, ybound, ybound, \n",
    "        zbound, zbound, zbound, zbound, zbound, vbound)"
   ]
  },
  {
   "cell_type": "code",
   "execution_count": 28,
   "metadata": {},
   "outputs": [],
   "source": [
    "STF = linprog(c, A_eq=Aeq, b_eq=beq, bounds=bound)"
   ]
  },
  {
   "cell_type": "code",
   "execution_count": 29,
   "metadata": {},
   "outputs": [
    {
     "data": {
      "text/plain": [
       "     fun: -92.496949152542285\n",
       " message: 'Optimization terminated successfully.'\n",
       "     nit: 8\n",
       "   slack: array([ 100.        ,   49.01960784,  100.        ,  100.        ,  100.        ])\n",
       "  status: 0\n",
       " success: True\n",
       "       x: array([   0.        ,   50.98039216,    0.        ,    0.        ,\n",
       "          0.        ,  150.        ,   49.01960784,  203.43436358,\n",
       "          0.        ,    0.        ,  351.9441675 ,    0.        ,\n",
       "          0.        ,   92.49694915])"
      ]
     },
     "execution_count": 29,
     "metadata": {},
     "output_type": "execute_result"
    }
   ],
   "source": [
    "STF"
   ]
  },
  {
   "cell_type": "code",
   "execution_count": 24,
   "metadata": {},
   "outputs": [
    {
     "data": {
      "text/plain": [
       "array([   0.        ,   50.98039216,    0.        ,    0.        ,\n",
       "          0.        ,  150.        ,   49.01960784,  203.43436358,\n",
       "          0.        ,    0.        ,  351.9441675 ,    0.        ,\n",
       "          0.        ,   92.49694915])"
      ]
     },
     "execution_count": 24,
     "metadata": {},
     "output_type": "execute_result"
    }
   ],
   "source": [
    "STF.x"
   ]
  },
  {
   "cell_type": "markdown",
   "metadata": {},
   "source": [
    "## 2. Ejercicio"
   ]
  },
  {
   "cell_type": "markdown",
   "metadata": {},
   "source": [
    "Una empresa enfrenta los siguientes requerimientos de efectivo en los siguientes ocho cuatrimestres (entradas positivas significan compromisos de efectivo, mientras que entradas negativas representan excesos):\n",
    "\n",
    "| Cuatrimestre  | C1    | C2    | C3    | C4    | C5    | C6    | C7    | C8    |\n",
    "| ------------- | ----- | ----- | ----- | ----- | ----- | ----- | ----- | ----- |\n",
    "| Flujo neto    | 100   | 500   | 100   | -600  | -500  | 200   | 600   | -900  |\n",
    "\n",
    "La empresa tiene tres posibilidades de financiamiento:\n",
    "- Un préstamo a dos años disponible al comienzo de C1, con una tasa de interés de $1\\%$ por cuatrimestre.\n",
    "- Las otras dos oportunidades de préstamo están disponibles al inicio de cada cuatrimestre: un préstamo a seis meses con una tasa de interés del $1.8\\%$ por cuatrimestre, y un préstamo a cuatro meses con una tasa de interés del $2.5\\%$ por el cuatrimestre.\n",
    "\n",
    "Cualquier excedente puede ser invertido en una cuenta que brinda el $0.5\\%$ de interés por cuatrimestre. Formule el programa lineal que maximiza la ganancia de la empresa al comienzo de C9."
   ]
  },
  {
   "cell_type": "markdown",
   "metadata": {},
   "source": [
    "### Para resolver...\n",
    "1. Variables de decisión.\n",
    "2. Objetivo.\n",
    "3. Restricciones."
   ]
  },
  {
   "cell_type": "markdown",
   "metadata": {},
   "source": [
    "**3 grupos**\n",
    "1. Pagos de interés del préstamo a dos años cuatrimestrales.\n",
    "2. Pagos de interés del préstamo a dos años anuales.\n",
    "3. Un único pago del préstamos a dos años."
   ]
  },
  {
   "cell_type": "code",
   "execution_count": null,
   "metadata": {},
   "outputs": [],
   "source": []
  },
  {
   "cell_type": "code",
   "execution_count": null,
   "metadata": {},
   "outputs": [],
   "source": []
  },
  {
   "cell_type": "code",
   "execution_count": null,
   "metadata": {},
   "outputs": [],
   "source": []
  },
  {
   "cell_type": "code",
   "execution_count": null,
   "metadata": {},
   "outputs": [],
   "source": []
  },
  {
   "cell_type": "code",
   "execution_count": null,
   "metadata": {},
   "outputs": [],
   "source": []
  },
  {
   "cell_type": "markdown",
   "metadata": {},
   "source": [
    "<script>\n",
    "  $(document).ready(function(){\n",
    "    $('div.prompt').hide();\n",
    "    $('div.back-to-top').hide();\n",
    "    $('nav#menubar').hide();\n",
    "    $('.breadcrumb').hide();\n",
    "    $('.hidden-print').hide();\n",
    "  });\n",
    "</script>\n",
    "\n",
    "<footer id=\"attribution\" style=\"float:right; color:#808080; background:#fff;\">\n",
    "Created with Jupyter by Esteban Jiménez Rodríguez.\n",
    "</footer>"
   ]
  }
 ],
 "metadata": {
  "kernelspec": {
   "display_name": "Python 3",
   "language": "python",
   "name": "python3"
  },
  "language_info": {
   "codemirror_mode": {
    "name": "ipython",
    "version": 3
   },
   "file_extension": ".py",
   "mimetype": "text/x-python",
   "name": "python",
   "nbconvert_exporter": "python",
   "pygments_lexer": "ipython3",
   "version": "3.6.4"
  }
 },
 "nbformat": 4,
 "nbformat_minor": 2
}
